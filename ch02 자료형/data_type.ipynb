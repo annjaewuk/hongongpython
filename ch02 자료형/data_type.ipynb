{
 "cells": [
  {
   "cell_type": "markdown",
   "metadata": {},
   "source": [
    "### 자료형\n",
    "---"
   ]
  },
  {
   "cell_type": "code",
   "execution_count": 3,
   "metadata": {},
   "outputs": [
    {
     "data": {
      "text/plain": [
       "\"  she's gone \""
      ]
     },
     "execution_count": 3,
     "metadata": {},
     "output_type": "execute_result"
    }
   ],
   "source": [
    "\"헬로\"\n",
    "'안녕'\n",
    "\n",
    "'''헬로\n",
    "안녕'''\n",
    "\n",
    "\"\"\"  she's gone \"\"\""
   ]
  },
  {
   "cell_type": "code",
   "execution_count": 8,
   "metadata": {},
   "outputs": [
    {
     "name": "stdout",
     "output_type": "stream",
     "text": [
      "A\n",
      "A\n",
      "B\n",
      "a\n",
      "a\n",
      "65\n",
      "54620\n",
      "핝\n"
     ]
    }
   ],
   "source": [
    "#인코딩과 디코딩\n",
    "\n",
    "'A' \"가\"\n",
    "\n",
    "print('A')\n",
    "print(chr(65))\n",
    "print(chr(66))\n",
    "print(chr(0b1100001))\n",
    "print(chr(97))\n",
    "\n",
    "print(ord('A'))\n",
    "print(ord('한'))\n",
    "print(chr(54621)) \n",
    "\n"
   ]
  },
  {
   "cell_type": "code",
   "execution_count": 19,
   "metadata": {},
   "outputs": [
    {
     "name": "stdout",
     "output_type": "stream",
     "text": [
      "⚔\n"
     ]
    }
   ],
   "source": [
    "\n",
    "def chat(sw):\n",
    "    if sw == 'sword':\n",
    "        print(\"⚔\")\n",
    "\n",
    "chat('sword')"
   ]
  },
  {
   "cell_type": "code",
   "execution_count": 15,
   "metadata": {},
   "outputs": [
    {
     "name": "stdout",
     "output_type": "stream",
     "text": [
      "C:\\Users\\bitcamp\\Desktop\\Python\n",
      "C:\\Users\\bitcamp\\Desktop\\Python\n",
      "이름\t나이\t주소\n"
     ]
    }
   ],
   "source": [
    "#역슬래시 붙여서 이스케이프 방지\n",
    "path = \"C:\\\\Users\\\\bitcamp\\Desktop\\Python\"\n",
    "path2 =r\"C:\\Users\\bitcamp\\Desktop\\Python\"\n",
    "print(path)\n",
    "print(path2)\n",
    "print(\"이름\\t나이\\t주소\")"
   ]
  },
  {
   "cell_type": "code",
   "execution_count": 17,
   "metadata": {},
   "outputs": [
    {
     "name": "stdout",
     "output_type": "stream",
     "text": [
      "hallo\n",
      "hallo\n",
      "hallo\n",
      "hallo\n",
      "hallo\n",
      "\n",
      "Python3.1.0\n"
     ]
    },
    {
     "data": {
      "text/plain": [
       "str"
      ]
     },
     "execution_count": 17,
     "metadata": {},
     "output_type": "execute_result"
    }
   ],
   "source": [
    "print(\"hallo\\n\" * 5)\n",
    "\n",
    "head = \"Python\"\n",
    "version = \"3.1.0\"\n",
    "print(head + version)\n",
    "type(\" \")"
   ]
  },
  {
   "cell_type": "code",
   "execution_count": 30,
   "metadata": {},
   "outputs": [
    {
     "name": "stdout",
     "output_type": "stream",
     "text": [
      "0b1001\n",
      "4\n"
     ]
    }
   ],
   "source": [
    "n = 9\n",
    "#print(type(n))\n",
    "print(bin(n))\n",
    "print(n.bit_length())\n",
    "#클래스인증거"
   ]
  },
  {
   "cell_type": "code",
   "execution_count": 42,
   "metadata": {},
   "outputs": [
    {
     "name": "stdout",
     "output_type": "stream",
     "text": [
      "남자\n",
      "['971113', '1013721']\n",
      "971113\n",
      "1013721\n",
      "1\n",
      "Male\n"
     ]
    }
   ],
   "source": [
    "# \"Python\"\n",
    "# array = 'P'+'y'+'t'+'h'+'o'+'n'\n",
    "# print(array)\n",
    "# li = ['P','y','t','h','o','n']\n",
    "# print(li)\n",
    "# print(li[3])\n",
    "\n",
    "# array = \"Python\"\n",
    "# for i in range(6):\n",
    "#     print(array[i])\n",
    "\n",
    "sn = \"971113-1013921\"\n",
    "\n",
    "if sn[7] == \"1\" :\n",
    "    print(\"남자\")\n",
    "else :\n",
    "    print(\"여자\")\n",
    "\n",
    "sn = '971113-1013721'\n",
    "#스플릿 활용\n",
    "sn = sn.split('-')\n",
    "print(sn)\n",
    "print(sn[0])\n",
    "print(sn[1])\n",
    "print(sn[1][0])\n",
    "if sn[1][0] == '1' or sn[1][0] == '3':\n",
    "    print('Male')\n",
    "else:\n",
    "    print('Female')\n",
    "\n"
   ]
  },
  {
   "cell_type": "code",
   "execution_count": 52,
   "metadata": {},
   "outputs": [
    {
     "name": "stdout",
     "output_type": "stream",
     "text": [
      "ㅇㅇ의 생일은 11월 13일\n"
     ]
    }
   ],
   "source": [
    "#슬라이싱(slicing)\n",
    "sn = \"971113-1013921\"\n",
    "#문자열[시작:끝]\n",
    "\n",
    "month = sn[2:4]\n",
    "day = sn[4:6]\n",
    "print(\"ㅇㅇ의 생일은 \" + month +\"월 \" + day +\"일\")\n"
   ]
  },
  {
   "cell_type": "code",
   "execution_count": 67,
   "metadata": {},
   "outputs": [
    {
     "name": "stdout",
     "output_type": "stream",
     "text": [
      "0.30000000000000004\n",
      "0.30000000000000004\n"
     ]
    }
   ],
   "source": [
    "# 실수\n",
    "print(round(0.1*3, 17))\n",
    "print(0.1*3)"
   ]
  },
  {
   "cell_type": "code",
   "execution_count": 75,
   "metadata": {},
   "outputs": [
    {
     "name": "stdout",
     "output_type": "stream",
     "text": [
      "짝수입니다\n"
     ]
    }
   ],
   "source": [
    "#짝수홀수판별\n",
    "#print(7%5)\n",
    "\n",
    "n=192\n",
    "if n%2 == 0 :\n",
    "    print(\"짝수입니다\")\n",
    "else :\n",
    "    print(\"홀수입니다\")\n",
    "\n"
   ]
  },
  {
   "cell_type": "code",
   "execution_count": 1,
   "metadata": {},
   "outputs": [
    {
     "name": "stdout",
     "output_type": "stream",
     "text": [
      "20\n"
     ]
    }
   ],
   "source": [
    "# int변환\n",
    "\n",
    "word = \"10\"\n",
    "print(int(\"10\") + 10)"
   ]
  },
  {
   "cell_type": "code",
   "execution_count": 17,
   "metadata": {},
   "outputs": [
    {
     "name": "stdout",
     "output_type": "stream",
     "text": [
      "반지름이 5.0일 때, 원 넓이는 78.5입니다.\n"
     ]
    }
   ],
   "source": [
    "# 원의 넓이 구하기\n",
    "\n",
    "from math import pi\n",
    "\n",
    "radius = float(input(\"반지름을 입력하세요: \"))\n",
    "area = ((radius ** 2) * pi)\n",
    "print (\"반지름\" + str(radius) + \"의 원넓이는\" + str(area) + \"입니다.\")\n",
    "#print (\"반지름\", radius,\"의\",\"원넓이는\", area ,\"입니다.\")\n",
    "\n",
    "# 출력문 주석된것과 아닌것의 차이가 궁금합니다.\n",
    "# 주석 아닌것은 str 을 붙이지 않으면 에러가 납니다.\n",
    "# 결론) 연산으로 들어가서 문자열이 계산불가\n",
    "\n",
    "\n",
    "def solve(r):\n",
    "    pi = 3.14\n",
    "    ret = (r ** 2) * pi\n",
    "    print('반지름이 {}일 때, 원 넓이는 {}입니다.'. format(r, ret))\n",
    "\n",
    "r = float(input(' 반지름을 입력하세요: '))\n",
    "solve(r)"
   ]
  },
  {
   "cell_type": "markdown",
   "metadata": {},
   "source": [
    "##### 숫자와 문자열의 다양한 기능\n",
    "---"
   ]
  },
  {
   "cell_type": "code",
   "execution_count": 23,
   "metadata": {},
   "outputs": [
    {
     "name": "stdout",
     "output_type": "stream",
     "text": [
      "LIFE IS SHORT\n",
      "11\n",
      "11\n",
      "철수는 90점 입니다.\n"
     ]
    }
   ],
   "source": [
    "print(\"Life is short\".upper())\n",
    "print(\"I am string\".__len__())\n",
    "print(len(\"I am string\"))\n",
    "\n",
    "# 밑줄은 구성 요소들이다 (DNA) (e.g \"헬로\" *5 가 복사되는것은 구현된것이다)\n",
    "# (오브젝트 클래스)\n",
    "# 그냥 점은 라이브러리 함수다\n",
    "\n",
    "#서식 지정자\n",
    "name = \"철수\"\n",
    "score = 90\n",
    "print(\"%s는 %d점 입니다.\" %(name, score))\n",
    "# format() 함수"
   ]
  },
  {
   "cell_type": "code",
   "execution_count": 30,
   "metadata": {},
   "outputs": [
    {
     "name": "stdout",
     "output_type": "stream",
     "text": [
      "찰스의 점수는 0점 입니다.\n",
      "영구의 점수는 10점 입니다.\n",
      "갈산의 점수는 17점 입니다.\n",
      "희진의 점수는 90점 입니다.\n",
      "국영수의 점수는 100점 입니다.\n"
     ]
    }
   ],
   "source": [
    "names = [\"찰스\",\"영구\",\"갈산\",\"희진\",\"국영수\"]\n",
    "score = [0, 10, 17, 90, 100]\n",
    "\n",
    "for index in range(5):\n",
    "    print(\"%s의 점수는 %d점 입니다.\" %(names[index], score[index]))"
   ]
  },
  {
   "cell_type": "code",
   "execution_count": 40,
   "metadata": {},
   "outputs": [
    {
     "name": "stdout",
     "output_type": "stream",
     "text": [
      "오늘은 2021년 12월 29일 입니다.\n",
      "1640755093.2310143\n"
     ]
    },
    {
     "data": {
      "text/plain": [
       "'21-12-29 02시 18분'"
      ]
     },
     "execution_count": 40,
     "metadata": {},
     "output_type": "execute_result"
    }
   ],
   "source": [
    "#변수와 문자열의 결합\n",
    "# \"\".format()\n",
    "\n",
    "year = \"2021\"\n",
    "month = \"12\"\n",
    "day = \"29\"\n",
    "\n",
    "print(\"오늘은 {}년 {}월 {}일 입니다.\".format(year, month, day))\n",
    "\n",
    "\n"
   ]
  },
  {
   "cell_type": "code",
   "execution_count": 43,
   "metadata": {},
   "outputs": [
    {
     "name": "stdout",
     "output_type": "stream",
     "text": [
      "2021-12-29 14:19:50.047469\n",
      "1640755190.0474691\n"
     ]
    },
    {
     "data": {
      "text/plain": [
       "'21-12-29 02시 19분'"
      ]
     },
     "execution_count": 43,
     "metadata": {},
     "output_type": "execute_result"
    }
   ],
   "source": [
    "#시간\n",
    "\n",
    "import time\n",
    "import datetime\n",
    "\n",
    "current = datetime.datetime.now()\n",
    "\n",
    "print(current)\n",
    "print(time.time()) \n",
    "time.strftime('%c', time.localtime(time.time()))\n",
    "time.strftime('%y-%m-%d %I시 %M분', time.localtime(time.time()))\n",
    "\n",
    "print(\"오늘은 {}년 {}월 {}일 입니다.\".format(current.year, current.month, current.day))\n"
   ]
  },
  {
   "cell_type": "code",
   "execution_count": 54,
   "metadata": {},
   "outputs": [
    {
     "name": "stdout",
     "output_type": "stream",
     "text": [
      "<class 'bool'>\n",
      "True\n",
      "4\n",
      "-1\n",
      "여러분 ❤하신가요\n",
      "['10', '20', '30', '40', '50']\n"
     ]
    }
   ],
   "source": [
    "#자료형 : 배열, 정수, 실수, 불(boolean)\n",
    "\n",
    "flag = \"안녕\" in \"여러분 안녕하신가요\"\n",
    "print(type(flag))\n",
    "print(flag)\n",
    "\n",
    "print(\"여러분 안녕하신가요\".find(\"안녕\")) #4\n",
    "print(\"여러분 안녕하신가요\".find(\"없음\")) #-1\n",
    "print(\"여러분 안녕하신가요\".replace(\"안녕\" , '❤')) #대체\n",
    "\n",
    "print(\"10 20 30 40 50\".split(\" \"))"
   ]
  },
  {
   "cell_type": "code",
   "execution_count": 69,
   "metadata": {},
   "outputs": [
    {
     "name": "stdout",
     "output_type": "stream",
     "text": [
      "10 20 30 40 50 합: 150\n"
     ]
    }
   ],
   "source": [
    "#스플릿 연산\n",
    "\n",
    "text = \"10 20 30 40 50\"\n",
    "li = text.split()\n",
    "# print(li)\n",
    "# sum =  int(li[0]) +int(li[1]) +int(li[2]) +int(li[3]) +int(li[4])\n",
    "# print(sum)\n",
    "\n",
    "sum = 0\n",
    "for i in li :\n",
    "    sum += int(i)\n",
    "    print(i, end=\" \")\n",
    "\n",
    "print(\"합: {}\".format(sum))"
   ]
  },
  {
   "cell_type": "code",
   "execution_count": 73,
   "metadata": {},
   "outputs": [
    {
     "name": "stdout",
     "output_type": "stream",
     "text": [
      "<class 'range'>\n",
      "0, 2, 4, "
     ]
    }
   ],
   "source": [
    "# for i range(5) : (5번반복)\n",
    "# for i range(시작,끝,스텝) : \n",
    "\n",
    "print(type(range(5)))\n",
    "\n",
    "for i in range(0,5,2): #반복객체: str, [], (), {키:값,....}, range()\n",
    "    print(i, end=\", \")"
   ]
  },
  {
   "cell_type": "code",
   "execution_count": 80,
   "metadata": {},
   "outputs": [
    {
     "name": "stdout",
     "output_type": "stream",
     "text": [
      "당신의 점수는 90 이고 등급은 A 입니다\n"
     ]
    }
   ],
   "source": [
    "#학점 판별\n",
    "#elif 는 true를 찾아서 내려옴, 조건 여러개 가능\n",
    "\n",
    "score = 0\n",
    "grade = \"\"\n",
    "\n",
    "score = int(input(\"점수를 입력하세요\"))\n",
    "if score >= 95:\n",
    "    grade =\"A+\"\n",
    "elif score >= 90:\n",
    "    grade =\"A\"\n",
    "elif score >= 85:\n",
    "    grade =\"B+\"\n",
    "elif score >= 80:\n",
    "    grade =\"B\"\n",
    "elif score >= 75:\n",
    "    grade =\"C+\"\n",
    "elif score >= 70:\n",
    "    grade =\"C\"\n",
    "elif score >= 65:\n",
    "    grade =\"D\"\n",
    "else :\n",
    "    grade =\"F\"\n",
    "\n",
    "print(f\"당신의 점수는 {score} 이고 등급은 {grade} 입니다\");"
   ]
  },
  {
   "cell_type": "code",
   "execution_count": null,
   "metadata": {},
   "outputs": [],
   "source": [
    "#while\n",
    "\n",
    "i=0\n",
    "while True:\n",
    "    print('Hello')\n",
    "    i += 1\n",
    "    if i > 10:\n",
    "        break\n",
    "i=0\n",
    "flag = True\n",
    "while flag:\n",
    "    print(i, 'fuck')\n",
    "    i += 1\n",
    "    if i > 10:\n",
    "        break\n"
   ]
  },
  {
   "cell_type": "markdown",
   "metadata": {},
   "source": [
    "### 함수\n",
    "---"
   ]
  },
  {
   "cell_type": "code",
   "execution_count": 97,
   "metadata": {},
   "outputs": [
    {
     "name": "stdout",
     "output_type": "stream",
     "text": [
      "aloha\n",
      "Hi~Hi~Hi~Hi~Hi~\n"
     ]
    }
   ],
   "source": [
    "def hello():\n",
    "    print(\"aloha\")\n",
    "\n",
    "hello()\n",
    "\n",
    "def hi(num) :\n",
    "    print(\"Hi~\\n\" * num)\n",
    "\n",
    "hi(5)"
   ]
  }
 ],
 "metadata": {
  "interpreter": {
   "hash": "8931d08a56ba8ec5bd4013e6d6c9066a90d099ecd0b9731835efa4c48cf46a24"
  },
  "kernelspec": {
   "display_name": "Python 3.10.1 64-bit",
   "language": "python",
   "name": "python3"
  },
  "language_info": {
   "codemirror_mode": {
    "name": "ipython",
    "version": 3
   },
   "file_extension": ".py",
   "mimetype": "text/x-python",
   "name": "python",
   "nbconvert_exporter": "python",
   "pygments_lexer": "ipython3",
   "version": "3.10.1"
  },
  "orig_nbformat": 4
 },
 "nbformat": 4,
 "nbformat_minor": 2
}
