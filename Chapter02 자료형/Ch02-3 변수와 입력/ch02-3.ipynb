{
 "cells": [
  {
   "cell_type": "markdown",
   "metadata": {},
   "source": [
    "### 변수) 값을 저장하여 사용하기 위한 식별자 \n",
    "---"
   ]
  },
  {
   "cell_type": "code",
   "execution_count": 1,
   "metadata": {},
   "outputs": [
    {
     "name": "stdout",
     "output_type": "stream",
     "text": [
      "2609917799120\n",
      "잔고는:  300000 원\n"
     ]
    }
   ],
   "source": [
    "#계좌 100만 노트북이어폰사고 정산\n",
    "\n",
    "acc = 1_000_000\n",
    "notebook = 500_000\n",
    "earphone = 200_000\n",
    "\n",
    "print(id(acc))\n",
    "\n",
    "balance =  acc - (notebook + earphone)\n",
    "\n",
    "print(\"잔고는: \", balance, \"원\")"
   ]
  },
  {
   "cell_type": "code",
   "execution_count": 4,
   "metadata": {},
   "outputs": [
    {
     "name": "stdout",
     "output_type": "stream",
     "text": [
      "<class 'str'>\n",
      "1010\n"
     ]
    }
   ],
   "source": [
    "# 사용자 입력\n",
    "\n",
    "keyboard = input(\"숫자를 입력해 주세요: \")\n",
    "print(type(keyboard))\n",
    "\n",
    "print(int(keyboard) + 10)"
   ]
  },
  {
   "cell_type": "code",
   "execution_count": 6,
   "metadata": {},
   "outputs": [
    {
     "name": "stdout",
     "output_type": "stream",
     "text": [
      "사칙연산 결과:  15 5 50 2.0\n"
     ]
    }
   ],
   "source": [
    "#숫자를 두번 입력받아 계산하고 결과를 출력하시오\n",
    "\n",
    "first = int(input(\"첫번째 숫자를 입력하세요: \"))\n",
    "second = int(input(\"두번째 숫자를 입력하세요: \"))\n",
    "\n",
    "sum = first + second\n",
    "subtract = first - second\n",
    "multiply = first * second\n",
    "divide = first / second\n",
    "\n",
    "result = print(\"사칙연산 결과: \", sum , subtract, multiply, divide)"
   ]
  },
  {
   "cell_type": "markdown",
   "metadata": {},
   "source": [
    "### ValueError 예외\n",
    "---"
   ]
  },
  {
   "cell_type": "code",
   "execution_count": null,
   "metadata": {},
   "outputs": [],
   "source": [
    "print(dir(__builtins__))"
   ]
  },
  {
   "cell_type": "code",
   "execution_count": 12,
   "metadata": {},
   "outputs": [
    {
     "name": "stdout",
     "output_type": "stream",
     "text": [
      "오늘의 날짜: 2022.1.5\n",
      "오늘의 날짜는 2022-01-05 입니다\n"
     ]
    }
   ],
   "source": [
    "#오늘의날짜\n",
    "\n",
    "import datetime\n",
    "\n",
    "current = datetime.datetime.now()\n",
    "\n",
    "print(\"오늘의 날짜: {}.{}.{}\".format(current.year, current.month, current.day))\n",
    "\n",
    "import datetime\n",
    "today = datetime.datetime.today().strftime('%Y-%m-%d')\n",
    "\n",
    "print(\"오늘의 날짜는 {} 입니다\" .format(today))"
   ]
  },
  {
   "cell_type": "code",
   "execution_count": 16,
   "metadata": {},
   "outputs": [
    {
     "name": "stdout",
     "output_type": "stream",
     "text": [
      "입력한 값은 3.302cm입니다.\n"
     ]
    }
   ],
   "source": [
    "#인치구하기\n",
    "\n",
    "def func(inch):\n",
    "    cm = 2.54\n",
    "    return inch * cm\n",
    "print(\"입력한 값은 %0.4fcm입니다.\"%func(float(input(\"inch를 입력하세요\"))))"
   ]
  }
 ],
 "metadata": {
  "interpreter": {
   "hash": "054c0b5073ae8ed56926c5c67113945079b283bacf1a269ae7086b3d9eebd60c"
  },
  "kernelspec": {
   "display_name": "Python 3.10.1 64-bit",
   "language": "python",
   "name": "python3"
  },
  "language_info": {
   "codemirror_mode": {
    "name": "ipython",
    "version": 3
   },
   "file_extension": ".py",
   "mimetype": "text/x-python",
   "name": "python",
   "nbconvert_exporter": "python",
   "pygments_lexer": "ipython3",
   "version": "3.10.1"
  },
  "orig_nbformat": 4
 },
 "nbformat": 4,
 "nbformat_minor": 2
}
