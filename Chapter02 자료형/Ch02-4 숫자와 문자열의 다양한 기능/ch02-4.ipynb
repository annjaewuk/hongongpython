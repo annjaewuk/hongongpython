{
 "cells": [
  {
   "cell_type": "code",
   "execution_count": null,
   "metadata": {},
   "outputs": [],
   "source": [
    "# 학급 학생들의 점수 출력\n",
    "\n",
    "for i in range(6):\n",
    "    print(\"%s 학생의 점수는 %d 점입니다.\" % (1,2))"
   ]
  },
  {
   "cell_type": "code",
   "execution_count": 5,
   "metadata": {},
   "outputs": [
    {
     "name": "stdout",
     "output_type": "stream",
     "text": [
      "5만원\n",
      "5만원\n",
      "5만원\n",
      "5만원\n"
     ]
    }
   ],
   "source": [
    "# format() 함수의 다양한 형태\n",
    "data1 = \"{}만원\".format(5)\n",
    "\n",
    "#인덱스 사용\n",
    "data2 = \"{}만원\".format('5')\n",
    "\n",
    "#인덱스 대신 변수명 지정\n",
    "data3 = \"{amount}만원\".format(amount = 5)\n",
    "\n",
    "#변수명 그대로 사용\n",
    "don = 5\n",
    "data4 = f\"{don}만원\"\n",
    "\n",
    "#출력 테스트\n",
    "data = [data1, data2, data3, data4]\n",
    "\n",
    "for i in data :\n",
    "    print(i)\n"
   ]
  },
  {
   "cell_type": "markdown",
   "metadata": {},
   "source": [
    "### IndexError 예외 :{} 인덱스 개수가 함수 매개변수 개수보다 많은 경우\n",
    "---"
   ]
  },
  {
   "cell_type": "code",
   "execution_count": 7,
   "metadata": {},
   "outputs": [
    {
     "name": "stdout",
     "output_type": "stream",
     "text": [
      "12\n"
     ]
    },
    {
     "ename": "IndexError",
     "evalue": "Replacement index 2 out of range for positional args tuple",
     "output_type": "error",
     "traceback": [
      "\u001b[1;31m---------------------------------------------------------------------------\u001b[0m",
      "\u001b[1;31mIndexError\u001b[0m                                Traceback (most recent call last)",
      "\u001b[1;32m~\\AppData\\Local\\Temp/ipykernel_15076/583245334.py\u001b[0m in \u001b[0;36m<module>\u001b[1;34m\u001b[0m\n\u001b[0;32m      1\u001b[0m \u001b[0mprint\u001b[0m\u001b[1;33m(\u001b[0m\u001b[1;34m\"{}{}\"\u001b[0m\u001b[1;33m.\u001b[0m\u001b[0mformat\u001b[0m\u001b[1;33m(\u001b[0m\u001b[1;36m1\u001b[0m\u001b[1;33m,\u001b[0m\u001b[1;36m2\u001b[0m\u001b[1;33m,\u001b[0m\u001b[1;36m3\u001b[0m\u001b[1;33m,\u001b[0m\u001b[1;36m4\u001b[0m\u001b[1;33m,\u001b[0m\u001b[1;36m5\u001b[0m\u001b[1;33m)\u001b[0m\u001b[1;33m)\u001b[0m\u001b[1;33m\u001b[0m\u001b[1;33m\u001b[0m\u001b[0m\n\u001b[1;32m----> 2\u001b[1;33m \u001b[0mprint\u001b[0m\u001b[1;33m(\u001b[0m\u001b[1;34m\"{}{}{}\"\u001b[0m\u001b[1;33m.\u001b[0m\u001b[0mformat\u001b[0m\u001b[1;33m(\u001b[0m\u001b[1;36m1\u001b[0m\u001b[1;33m,\u001b[0m\u001b[1;36m2\u001b[0m\u001b[1;33m)\u001b[0m\u001b[1;33m)\u001b[0m\u001b[1;33m\u001b[0m\u001b[1;33m\u001b[0m\u001b[0m\n\u001b[0m",
      "\u001b[1;31mIndexError\u001b[0m: Replacement index 2 out of range for positional args tuple"
     ]
    }
   ],
   "source": [
    "print(\"{}{}\".format(1,2,3,4,5))\n",
    "print(\"{}{}{}\".format(1,2))"
   ]
  },
  {
   "cell_type": "markdown",
   "metadata": {},
   "source": [
    "# format()함수의 다양한 기능 : 숫자 관련"
   ]
  },
  {
   "cell_type": "code",
   "execution_count": null,
   "metadata": {},
   "outputs": [],
   "source": [
    "output_a = \"{:d}\".format(52)\n",
    "print(output_a)\n",
    "\n",
    "output_a = \"{:s}\".format(\"52\")\n",
    "print(output_a)\n",
    "\n",
    "output_a = \"{:5d}\".format(52)\n",
    "print(output_a)\n",
    "\n",
    "output_a = \"{:05d}\".format(52)\n",
    "print(output_a)"
   ]
  },
  {
   "cell_type": "code",
   "execution_count": 11,
   "metadata": {},
   "outputs": [
    {
     "name": "stdout",
     "output_type": "stream",
     "text": [
      "-52\n",
      "+52\n"
     ]
    }
   ],
   "source": [
    "#기호와 함께 출력\n",
    "\n",
    "output_a = \"{:+d}\".format(-52)\n",
    "print(output_a)\n",
    "\n",
    "output_a = \"{:+d}\".format(52)\n",
    "print(output_a)\n",
    "\n"
   ]
  },
  {
   "cell_type": "markdown",
   "metadata": {},
   "source": [
    "## 특정 문자 제거하기"
   ]
  },
  {
   "cell_type": "code",
   "execution_count": 21,
   "metadata": {},
   "outputs": [
    {
     "name": "stdout",
     "output_type": "stream",
     "text": [
      "input_data : , Python. / *\n",
      "Python\n",
      "6\n",
      "!\"#$%&'()*+,-./:;<=>?@[\\]^_`{|}~\n",
      "PYTHON\n"
     ]
    }
   ],
   "source": [
    "input_data = \", Python. / *\"\n",
    "print(f\"input_data : {input_data}\")\n",
    "\n",
    "strip_data = input_data.strip(\",./ *\")\n",
    "print(strip_data)\n",
    "print(len(strip_data))\n",
    "\n",
    "# 구두점을 간단하게 삭제하는 방법\n",
    "import string\n",
    "print(string.punctuation)\n",
    "input_data = \"\"\"!\"#$%&'()*+,-python./:;<=>?@[\\]^_`{|}~\"\"\"\n",
    "strip_data = input_data.strip(string.punctuation).upper() #메서드 체이닝(method chaning)\n",
    "print(strip_data)"
   ]
  },
  {
   "cell_type": "markdown",
   "metadata": {},
   "source": [
    "### 문자열의 구성 파악하기 : is__()"
   ]
  },
  {
   "cell_type": "code",
   "execution_count": 28,
   "metadata": {},
   "outputs": [
    {
     "name": "stdout",
     "output_type": "stream",
     "text": [
      "다음 단계로 이동\n"
     ]
    }
   ],
   "source": [
    "#bool 자료형 리턴\n",
    "\"abc123\".isalnum()\n",
    "\"abc\".isalpha()\n",
    "\"123a\".isnumeric()\n",
    "\"123.45\".isdecimal()\n",
    "\"12345\".isdigit()\n",
    "\"ABCD\".isupper()\n",
    "\n",
    "name =\"abc\"\n",
    "if name.isalpha():\n",
    "    print(\"다음 단계로 이동\")\n",
    "else:\n",
    "    print(\"문자를 입력하세요\")"
   ]
  },
  {
   "cell_type": "markdown",
   "metadata": {},
   "source": [
    "### 문자열 위치 찾기 : find() rfind()"
   ]
  },
  {
   "cell_type": "code",
   "execution_count": 35,
   "metadata": {},
   "outputs": [
    {
     "data": {
      "text/plain": [
       "12"
      ]
     },
     "execution_count": 35,
     "metadata": {},
     "output_type": "execute_result"
    }
   ],
   "source": [
    "#find() : from left\n",
    "#finr() : from right\n",
    "\n",
    "i =\"12345678901234\"\n",
    "s = \"apple pineapple\"\n",
    "\n",
    "s.find(\"pl\")\n",
    "s.rfind(\"pl\")"
   ]
  },
  {
   "cell_type": "markdown",
   "metadata": {},
   "source": [
    "### 문자열과 in 연산자"
   ]
  },
  {
   "cell_type": "code",
   "execution_count": 43,
   "metadata": {},
   "outputs": [
    {
     "name": "stdout",
     "output_type": "stream",
     "text": [
      "True\n",
      "2\n"
     ]
    }
   ],
   "source": [
    "# 문자열 내부에 어떤(지정한) 문자열이 있는지 확인하기\n",
    "print(\"pine\" in s)\n",
    "# 개수 세기\n",
    "sentence = 'arguments, arguments'\n",
    "print(sentence.count(\"arguments\"))"
   ]
  },
  {
   "cell_type": "markdown",
   "metadata": {},
   "source": [
    "### 문자열 자르기: split()"
   ]
  },
  {
   "cell_type": "code",
   "execution_count": 65,
   "metadata": {},
   "outputs": [
    {
     "name": "stdout",
     "output_type": "stream",
     "text": [
      "['10', '20', '30', '40', '50']\n",
      "['apple', 'pear', 'grape', 'pineapple', 'orange']\n",
      "['baseball', 'football', 'golf', 'boxing', 'basketball']\n",
      "baseball football golf boxing basketball "
     ]
    }
   ],
   "source": [
    "li = \"10 20 30 40 50\".split(\" \");\n",
    "print(li)\n",
    "\n",
    "fruits = \"apple pear grape pineapple orange\"\n",
    "li = fruits.split()\n",
    "print(li)\n",
    "\n",
    "#li(0)\n",
    "#li[-1]\n",
    "\n",
    "sports = \"baseball/football/golf/boxing/basketball\"\n",
    "li = sports.split(\"/\")\n",
    "print(li)\n",
    "\n",
    "#for i in ['baseball', 'football', 'golf', 'boxing', 'basketball']:\n",
    "    #print(i)\n",
    "\n",
    "# for i in li:\n",
    "#     print(i)\n",
    "#same\n",
    "# for i in range(5):\n",
    "#     print(li[i])\n",
    "for i in range(len(li)):\n",
    "    print(li[i], end=\" \")"
   ]
  },
  {
   "cell_type": "code",
   "execution_count": 66,
   "metadata": {},
   "outputs": [
    {
     "name": "stdout",
     "output_type": "stream",
     "text": [
      "['2022', '1', '5']\n",
      "오늘은 2022년 1월 5일 입니다.\n"
     ]
    }
   ],
   "source": [
    "date = \"2022.1.5\"\n",
    "li =  date.split('.')\n",
    "print(li)\n",
    "\n",
    "year = li[0]\n",
    "month = li[1]\n",
    "day = li[2]\n",
    "\n",
    "print(f\"오늘은 {year}년 {month}월 {day}일 입니다.\")\n"
   ]
  },
  {
   "cell_type": "markdown",
   "metadata": {},
   "source": [
    "> 사용자로부터 입력 받은 모든 정수의 합을 리턴해주는 프로그램 작성 : input_split.py"
   ]
  },
  {
   "cell_type": "code",
   "execution_count": 101,
   "metadata": {},
   "outputs": [
    {
     "ename": "TypeError",
     "evalue": "'NoneType' object is not callable",
     "output_type": "error",
     "traceback": [
      "\u001b[1;31m---------------------------------------------------------------------------\u001b[0m",
      "\u001b[1;31mTypeError\u001b[0m                                 Traceback (most recent call last)",
      "\u001b[1;32m~\\AppData\\Local\\Temp/ipykernel_15076/2841955691.py\u001b[0m in \u001b[0;36m<module>\u001b[1;34m\u001b[0m\n\u001b[0;32m     12\u001b[0m \u001b[0msum\u001b[0m \u001b[1;33m=\u001b[0m \u001b[1;36m0\u001b[0m\u001b[1;33m\u001b[0m\u001b[1;33m\u001b[0m\u001b[0m\n\u001b[0;32m     13\u001b[0m \u001b[1;32mwhile\u001b[0m \u001b[0mend\u001b[0m \u001b[1;33m==\u001b[0m \u001b[1;32mFalse\u001b[0m \u001b[1;33m:\u001b[0m\u001b[1;33m\u001b[0m\u001b[1;33m\u001b[0m\u001b[0m\n\u001b[1;32m---> 14\u001b[1;33m     \u001b[0mdata\u001b[0m \u001b[1;33m=\u001b[0m \u001b[0mstring\u001b[0m\u001b[1;33m(\u001b[0m\u001b[0minput\u001b[0m\u001b[1;33m(\u001b[0m\u001b[1;34m\"정수를입력하세요, 종료는 end 입력하세요: \"\u001b[0m\u001b[1;33m)\u001b[0m\u001b[1;33m)\u001b[0m\u001b[1;33m\u001b[0m\u001b[1;33m\u001b[0m\u001b[0m\n\u001b[0m\u001b[0;32m     15\u001b[0m \u001b[1;33m\u001b[0m\u001b[0m\n\u001b[0;32m     16\u001b[0m     \u001b[1;32mif\u001b[0m \u001b[0mdata\u001b[0m \u001b[1;33m==\u001b[0m \u001b[1;34m\"end\"\u001b[0m \u001b[1;33m:\u001b[0m\u001b[1;33m\u001b[0m\u001b[1;33m\u001b[0m\u001b[0m\n",
      "\u001b[1;31mTypeError\u001b[0m: 'NoneType' object is not callable"
     ]
    }
   ],
   "source": [
    "# li = list(map(int,input().split()))\n",
    "# print(sum(li))\n",
    "\n",
    "# num = input(\"값을 입력해주세요: \")\n",
    "# split_num = num.split()\n",
    "# sum = 0\n",
    "# for a in split_num:\n",
    "#     sum += int(a)\n",
    "# print(sum)\n",
    "\n",
    "end = False\n",
    "sum = 0\n",
    "while end == False :\n",
    "    data = int(input(\"정수를입력하세요: \"))\n",
    "    \n",
    "    if data == \"end\" :\n",
    "        end = True\n",
    "        print(f\"정수의 총합은 {data}입니다.\")\n",
    "    else :\n",
    "        sum += int(data)\n",
    "        print(f\"현재 정수의합은 {data}입니다.\")"
   ]
  }
 ],
 "metadata": {
  "interpreter": {
   "hash": "054c0b5073ae8ed56926c5c67113945079b283bacf1a269ae7086b3d9eebd60c"
  },
  "kernelspec": {
   "display_name": "Python 3.10.1 64-bit",
   "language": "python",
   "name": "python3"
  },
  "language_info": {
   "codemirror_mode": {
    "name": "ipython",
    "version": 3
   },
   "file_extension": ".py",
   "mimetype": "text/x-python",
   "name": "python",
   "nbconvert_exporter": "python",
   "pygments_lexer": "ipython3",
   "version": "3.10.1"
  },
  "orig_nbformat": 4
 },
 "nbformat": 4,
 "nbformat_minor": 2
}
